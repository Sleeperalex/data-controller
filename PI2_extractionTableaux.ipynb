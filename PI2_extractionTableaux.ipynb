{
  "nbformat": 4,
  "nbformat_minor": 0,
  "metadata": {
    "colab": {
      "provenance": []
    },
    "kernelspec": {
      "name": "python3",
      "display_name": "Python 3"
    },
    "language_info": {
      "name": "python"
    }
  },
  "cells": [
    {
      "cell_type": "code",
      "source": [
        "!pip install -q transformers pdf2image torch torchvision pillow pytesseract"
      ],
      "metadata": {
        "colab": {
          "base_uri": "https://localhost:8080/"
        },
        "id": "SYrkgks69mLY",
        "outputId": "6f191471-39d0-491b-e48f-8e8ccbd29ff4"
      },
      "execution_count": null,
      "outputs": [
        {
          "output_type": "stream",
          "name": "stdout",
          "text": [
            "\u001b[2K   \u001b[90m━━━━━━━━━━━━━━━━━━━━━━━━━━━━━━━━━━━━━━━━\u001b[0m \u001b[32m363.4/363.4 MB\u001b[0m \u001b[31m4.4 MB/s\u001b[0m eta \u001b[36m0:00:00\u001b[0m\n",
            "\u001b[2K   \u001b[90m━━━━━━━━━━━━━━━━━━━━━━━━━━━━━━━━━━━━━━━━\u001b[0m \u001b[32m13.8/13.8 MB\u001b[0m \u001b[31m99.4 MB/s\u001b[0m eta \u001b[36m0:00:00\u001b[0m\n",
            "\u001b[2K   \u001b[90m━━━━━━━━━━━━━━━━━━━━━━━━━━━━━━━━━━━━━━━━\u001b[0m \u001b[32m24.6/24.6 MB\u001b[0m \u001b[31m73.8 MB/s\u001b[0m eta \u001b[36m0:00:00\u001b[0m\n",
            "\u001b[2K   \u001b[90m━━━━━━━━━━━━━━━━━━━━━━━━━━━━━━━━━━━━━━━━\u001b[0m \u001b[32m883.7/883.7 kB\u001b[0m \u001b[31m54.6 MB/s\u001b[0m eta \u001b[36m0:00:00\u001b[0m\n",
            "\u001b[2K   \u001b[90m━━━━━━━━━━━━━━━━━━━━━━━━━━━━━━━━━━━━━━━━\u001b[0m \u001b[32m664.8/664.8 MB\u001b[0m \u001b[31m763.9 kB/s\u001b[0m eta \u001b[36m0:00:00\u001b[0m\n",
            "\u001b[2K   \u001b[90m━━━━━━━━━━━━━━━━━━━━━━━━━━━━━━━━━━━━━━━━\u001b[0m \u001b[32m211.5/211.5 MB\u001b[0m \u001b[31m6.0 MB/s\u001b[0m eta \u001b[36m0:00:00\u001b[0m\n",
            "\u001b[2K   \u001b[90m━━━━━━━━━━━━━━━━━━━━━━━━━━━━━━━━━━━━━━━━\u001b[0m \u001b[32m56.3/56.3 MB\u001b[0m \u001b[31m12.7 MB/s\u001b[0m eta \u001b[36m0:00:00\u001b[0m\n",
            "\u001b[2K   \u001b[90m━━━━━━━━━━━━━━━━━━━━━━━━━━━━━━━━━━━━━━━━\u001b[0m \u001b[32m127.9/127.9 MB\u001b[0m \u001b[31m7.3 MB/s\u001b[0m eta \u001b[36m0:00:00\u001b[0m\n",
            "\u001b[2K   \u001b[90m━━━━━━━━━━━━━━━━━━━━━━━━━━━━━━━━━━━━━━━━\u001b[0m \u001b[32m207.5/207.5 MB\u001b[0m \u001b[31m5.9 MB/s\u001b[0m eta \u001b[36m0:00:00\u001b[0m\n",
            "\u001b[2K   \u001b[90m━━━━━━━━━━━━━━━━━━━━━━━━━━━━━━━━━━━━━━━━\u001b[0m \u001b[32m21.1/21.1 MB\u001b[0m \u001b[31m53.0 MB/s\u001b[0m eta \u001b[36m0:00:00\u001b[0m\n",
            "\u001b[?25h"
          ]
        }
      ]
    },
    {
      "cell_type": "code",
      "source": [
        "!apt-get install -y poppler-utils"
      ],
      "metadata": {
        "colab": {
          "base_uri": "https://localhost:8080/"
        },
        "id": "uGjwN_Us-GT8",
        "outputId": "0c05a555-5fa2-4257-989f-66a9a58d74fc"
      },
      "execution_count": null,
      "outputs": [
        {
          "output_type": "stream",
          "name": "stdout",
          "text": [
            "Reading package lists... Done\n",
            "Building dependency tree... Done\n",
            "Reading state information... Done\n",
            "The following NEW packages will be installed:\n",
            "  poppler-utils\n",
            "0 upgraded, 1 newly installed, 0 to remove and 29 not upgraded.\n",
            "Need to get 186 kB of archives.\n",
            "After this operation, 696 kB of additional disk space will be used.\n",
            "Get:1 http://archive.ubuntu.com/ubuntu jammy-updates/main amd64 poppler-utils amd64 22.02.0-2ubuntu0.6 [186 kB]\n",
            "Fetched 186 kB in 1s (309 kB/s)\n",
            "Selecting previously unselected package poppler-utils.\n",
            "(Reading database ... 124947 files and directories currently installed.)\n",
            "Preparing to unpack .../poppler-utils_22.02.0-2ubuntu0.6_amd64.deb ...\n",
            "Unpacking poppler-utils (22.02.0-2ubuntu0.6) ...\n",
            "Setting up poppler-utils (22.02.0-2ubuntu0.6) ...\n",
            "Processing triggers for man-db (2.10.2-1) ...\n"
          ]
        }
      ]
    },
    {
      "cell_type": "code",
      "source": [
        "import os\n",
        "import torch\n",
        "from transformers import AutoModelForObjectDetection, AutoProcessor\n",
        "from pdf2image import convert_from_path\n",
        "from PIL import Image\n",
        "from google.colab import files\n",
        "\n",
        "pdf_path = \"/content/ESG-Research-Controversies-Methodology.pdf\"\n",
        "\n",
        "# Convert PDF pages to images\n",
        "images = convert_from_path(pdf_path, dpi=400)\n",
        "\n",
        "# Load Hugging Face Table Transformer model\n",
        "model_name = \"microsoft/table-transformer-detection\"\n",
        "model = AutoModelForObjectDetection.from_pretrained(model_name)\n",
        "processor = AutoProcessor.from_pretrained(model_name)\n",
        "\n",
        "# Create output directory\n",
        "output_dir = \"/content/extracted_tables\"\n",
        "os.makedirs(output_dir, exist_ok=True)\n",
        "\n",
        "# Process each page\n",
        "for page_num, image in enumerate(images):\n",
        "    inputs = processor(images=image, return_tensors=\"pt\")\n",
        "\n",
        "    with torch.no_grad():\n",
        "        outputs = model(**inputs)\n",
        "\n",
        "    # Detect tables with a confidence threshold\n",
        "    target_sizes = torch.tensor([image.size[::-1]])\n",
        "    results = processor.post_process_object_detection(outputs, target_sizes=target_sizes, threshold=0.9)[0]\n",
        "\n",
        "    # Debugging: Print number of detected tables\n",
        "    print(f\"Page {page_num + 1}: {len(results['boxes'])} tables detected\")\n",
        "\n",
        "    # Extract and save only the table regions\n",
        "    for idx, box in enumerate(results[\"boxes\"]):\n",
        "        box = [round(i, 2) for i in box.tolist()]\n",
        "        x1, y1, x2, y2 = map(int, box)  # Convert to integer for cropping\n",
        "\n",
        "        # Crop the detected table\n",
        "        table_crop = image.crop((x1, y1, x2, y2))\n",
        "\n",
        "        # Save the cropped table image\n",
        "        output_path = os.path.join(output_dir, f\"table_page_{page_num + 1}_table_{idx + 1}.png\")\n",
        "        table_crop.save(output_path)\n",
        "        print(f\"Saved table: {output_path}\")\n",
        "\n",
        "# Zip and Download Extracted Tables\n",
        "!zip -r extracted_tables.zip extracted_tables\n",
        "files.download(\"extracted_tables.zip\")\n"
      ],
      "metadata": {
        "colab": {
          "base_uri": "https://localhost:8080/",
          "height": 1000
        },
        "id": "lNHIIBua70vi",
        "outputId": "fe866d9a-0a09-466d-93ee-b3b0c903fa3d"
      },
      "execution_count": null,
      "outputs": [
        {
          "output_type": "stream",
          "name": "stderr",
          "text": [
            "Some weights of the model checkpoint at microsoft/table-transformer-detection were not used when initializing TableTransformerForObjectDetection: ['model.backbone.conv_encoder.model.layer2.0.downsample.1.num_batches_tracked', 'model.backbone.conv_encoder.model.layer3.0.downsample.1.num_batches_tracked', 'model.backbone.conv_encoder.model.layer4.0.downsample.1.num_batches_tracked']\n",
            "- This IS expected if you are initializing TableTransformerForObjectDetection from the checkpoint of a model trained on another task or with another architecture (e.g. initializing a BertForSequenceClassification model from a BertForPreTraining model).\n",
            "- This IS NOT expected if you are initializing TableTransformerForObjectDetection from the checkpoint of a model that you expect to be exactly identical (initializing a BertForSequenceClassification model from a BertForSequenceClassification model).\n"
          ]
        },
        {
          "output_type": "stream",
          "name": "stdout",
          "text": [
            "Page 1: 0 tables detected\n",
            "Page 2: 0 tables detected\n",
            "Page 3: 0 tables detected\n",
            "Page 4: 0 tables detected\n",
            "Page 5: 0 tables detected\n",
            "Page 6: 1 tables detected\n",
            "Saved table: /content/extracted_tables/table_page_6_table_1.png\n",
            "Page 7: 0 tables detected\n",
            "Page 8: 1 tables detected\n",
            "Saved table: /content/extracted_tables/table_page_8_table_1.png\n",
            "Page 9: 0 tables detected\n",
            "Page 10: 0 tables detected\n",
            "Page 11: 1 tables detected\n",
            "Saved table: /content/extracted_tables/table_page_11_table_1.png\n",
            "Page 12: 0 tables detected\n",
            "Page 13: 0 tables detected\n",
            "Page 14: 0 tables detected\n",
            "Page 15: 0 tables detected\n",
            "Page 16: 0 tables detected\n",
            "Page 17: 0 tables detected\n",
            "Page 18: 1 tables detected\n",
            "Saved table: /content/extracted_tables/table_page_18_table_1.png\n",
            "Page 19: 0 tables detected\n",
            "Page 20: 1 tables detected\n",
            "Saved table: /content/extracted_tables/table_page_20_table_1.png\n",
            "Page 21: 1 tables detected\n",
            "Saved table: /content/extracted_tables/table_page_21_table_1.png\n",
            "Page 22: 0 tables detected\n",
            "Page 23: 0 tables detected\n",
            "Page 24: 1 tables detected\n",
            "Saved table: /content/extracted_tables/table_page_24_table_1.png\n",
            "Page 25: 0 tables detected\n",
            "Page 26: 0 tables detected\n",
            "Page 27: 0 tables detected\n",
            "Page 28: 1 tables detected\n",
            "Saved table: /content/extracted_tables/table_page_28_table_1.png\n",
            "Page 29: 1 tables detected\n",
            "Saved table: /content/extracted_tables/table_page_29_table_1.png\n",
            "Page 30: 0 tables detected\n",
            "Page 31: 1 tables detected\n",
            "Saved table: /content/extracted_tables/table_page_31_table_1.png\n",
            "Page 32: 0 tables detected\n",
            "Page 33: 0 tables detected\n",
            "Page 34: 0 tables detected\n",
            "Page 35: 0 tables detected\n",
            "Page 36: 0 tables detected\n",
            "Page 37: 0 tables detected\n",
            "Page 38: 0 tables detected\n",
            "Page 39: 1 tables detected\n",
            "Saved table: /content/extracted_tables/table_page_39_table_1.png\n",
            "Page 40: 1 tables detected\n",
            "Saved table: /content/extracted_tables/table_page_40_table_1.png\n",
            "Page 41: 1 tables detected\n",
            "Saved table: /content/extracted_tables/table_page_41_table_1.png\n",
            "Page 42: 1 tables detected\n",
            "Saved table: /content/extracted_tables/table_page_42_table_1.png\n",
            "Page 43: 1 tables detected\n",
            "Saved table: /content/extracted_tables/table_page_43_table_1.png\n",
            "Page 44: 1 tables detected\n",
            "Saved table: /content/extracted_tables/table_page_44_table_1.png\n",
            "Page 45: 0 tables detected\n",
            "Page 46: 1 tables detected\n",
            "Saved table: /content/extracted_tables/table_page_46_table_1.png\n",
            "Page 47: 1 tables detected\n",
            "Saved table: /content/extracted_tables/table_page_47_table_1.png\n",
            "Page 48: 1 tables detected\n",
            "Saved table: /content/extracted_tables/table_page_48_table_1.png\n",
            "Page 49: 0 tables detected\n",
            "Page 50: 0 tables detected\n",
            "Page 51: 0 tables detected\n",
            "Page 52: 0 tables detected\n",
            "Page 53: 0 tables detected\n",
            "  adding: extracted_tables/ (stored 0%)\n",
            "  adding: extracted_tables/table_page_47_table_1.png (deflated 7%)\n",
            "  adding: extracted_tables/table_page_6_table_1.png (deflated 4%)\n",
            "  adding: extracted_tables/table_page_29_table_1.png (deflated 10%)\n",
            "  adding: extracted_tables/table_page_41_table_1.png (deflated 8%)\n",
            "  adding: extracted_tables/table_page_43_table_1.png (deflated 7%)\n",
            "  adding: extracted_tables/table_page_44_table_1.png (deflated 11%)\n",
            "  adding: extracted_tables/table_page_24_table_1.png (deflated 9%)\n",
            "  adding: extracted_tables/table_page_40_table_1.png (deflated 12%)\n",
            "  adding: extracted_tables/table_page_28_table_1.png (deflated 12%)\n",
            "  adding: extracted_tables/table_page_46_table_1.png (deflated 8%)\n",
            "  adding: extracted_tables/table_page_39_table_1.png (deflated 7%)\n",
            "  adding: extracted_tables/table_page_21_table_1.png (deflated 94%)\n",
            "  adding: extracted_tables/table_page_31_table_1.png (deflated 11%)\n",
            "  adding: extracted_tables/table_page_48_table_1.png (deflated 6%)\n",
            "  adding: extracted_tables/table_page_8_table_1.png (deflated 10%)\n",
            "  adding: extracted_tables/table_page_18_table_1.png (deflated 10%)\n",
            "  adding: extracted_tables/table_page_11_table_1.png (deflated 10%)\n",
            "  adding: extracted_tables/table_page_20_table_1.png (deflated 14%)\n",
            "  adding: extracted_tables/table_page_42_table_1.png (deflated 12%)\n"
          ]
        },
        {
          "output_type": "display_data",
          "data": {
            "text/plain": [
              "<IPython.core.display.Javascript object>"
            ],
            "application/javascript": [
              "\n",
              "    async function download(id, filename, size) {\n",
              "      if (!google.colab.kernel.accessAllowed) {\n",
              "        return;\n",
              "      }\n",
              "      const div = document.createElement('div');\n",
              "      const label = document.createElement('label');\n",
              "      label.textContent = `Downloading \"${filename}\": `;\n",
              "      div.appendChild(label);\n",
              "      const progress = document.createElement('progress');\n",
              "      progress.max = size;\n",
              "      div.appendChild(progress);\n",
              "      document.body.appendChild(div);\n",
              "\n",
              "      const buffers = [];\n",
              "      let downloaded = 0;\n",
              "\n",
              "      const channel = await google.colab.kernel.comms.open(id);\n",
              "      // Send a message to notify the kernel that we're ready.\n",
              "      channel.send({})\n",
              "\n",
              "      for await (const message of channel.messages) {\n",
              "        // Send a message to notify the kernel that we're ready.\n",
              "        channel.send({})\n",
              "        if (message.buffers) {\n",
              "          for (const buffer of message.buffers) {\n",
              "            buffers.push(buffer);\n",
              "            downloaded += buffer.byteLength;\n",
              "            progress.value = downloaded;\n",
              "          }\n",
              "        }\n",
              "      }\n",
              "      const blob = new Blob(buffers, {type: 'application/binary'});\n",
              "      const a = document.createElement('a');\n",
              "      a.href = window.URL.createObjectURL(blob);\n",
              "      a.download = filename;\n",
              "      div.appendChild(a);\n",
              "      a.click();\n",
              "      div.remove();\n",
              "    }\n",
              "  "
            ]
          },
          "metadata": {}
        },
        {
          "output_type": "display_data",
          "data": {
            "text/plain": [
              "<IPython.core.display.Javascript object>"
            ],
            "application/javascript": [
              "download(\"download_ff611c59-98c5-4cd2-bac7-d5bd4e9bffb5\", \"extracted_tables.zip\", 4009137)"
            ]
          },
          "metadata": {}
        }
      ]
    }
  ]
}